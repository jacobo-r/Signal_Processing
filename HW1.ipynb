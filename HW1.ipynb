{
 "cells": [
  {
   "cell_type": "code",
   "execution_count": 30,
   "id": "caa9769b",
   "metadata": {},
   "outputs": [],
   "source": [
    "import matplotlib.pyplot as plt\n",
    "import numpy as np\n",
    "from numpy.fft import fft, ifft, fftfreq\n",
    "import scipy.io.wavfile as wav"
   ]
  },
  {
   "cell_type": "code",
   "execution_count": 2,
   "id": "c466c550",
   "metadata": {},
   "outputs": [],
   "source": [
    "# Read the 3 WAV files\n",
    "\n",
    "sample_rates, data_list = map(list, zip(*[(wav.read(f'string_{n}.wav')) for n in range(1, 4)]))"
   ]
  },
  {
   "cell_type": "code",
   "execution_count": 22,
   "id": "e35604ae",
   "metadata": {},
   "outputs": [
    {
     "name": "stdout",
     "output_type": "stream",
     "text": [
      "44100\n",
      "22050\n",
      "22050\n"
     ]
    }
   ],
   "source": [
    "for i in sample_rates:\n",
    "    print(i)"
   ]
  },
  {
   "cell_type": "code",
   "execution_count": 167,
   "id": "90a00acc",
   "metadata": {},
   "outputs": [],
   "source": [
    "notes = {\n",
    "    'E1': (329.63, 0.15),\n",
    "    'B2': (246.94, 0.15),\n",
    "    'G3': (196.00, 0.15),\n",
    "    'D4': (146.83, 0.08),\n",
    "    'A5': (110.00, 0.08),\n",
    "    'E6': (82.41, 0.04)\n",
    "}"
   ]
  },
  {
   "cell_type": "code",
   "execution_count": 94,
   "id": "196ebe70",
   "metadata": {
    "scrolled": true
   },
   "outputs": [
    {
     "name": "stdout",
     "output_type": "stream",
     "text": [
      "E1: 328.88, 329.63, 330.38\n",
      "B2: 246.19, 246.94, 247.69\n",
      "G3: 195.25, 196.00, 196.75\n",
      "D4: 146.43, 146.83, 147.23\n",
      "A5: 109.60, 110.00, 110.40\n",
      "E6: 82.21, 82.41, 82.61\n"
     ]
    }
   ],
   "source": [
    "ranges = {}\n",
    "\n",
    "for note, (freq, deviation) in notes.items():\n",
    "    lower_bound = freq - deviation * 5\n",
    "    upper_bound = freq + deviation * 5\n",
    "    ranges[note] = (lower_bound, freq, upper_bound)\n",
    "\n",
    "# Now, `ranges` contains the frequency ranges for each note\n",
    "for note, (lower, middle, upper) in ranges.items():\n",
    "    print(f\"{note}: {lower:.2f}, {middle:.2f}, {upper:.2f}\")"
   ]
  },
  {
   "cell_type": "code",
   "execution_count": 180,
   "id": "0c6b2e3f",
   "metadata": {},
   "outputs": [],
   "source": [
    "file = 1\n",
    "n=file-1"
   ]
  },
  {
   "cell_type": "code",
   "execution_count": 199,
   "id": "3fa663c9",
   "metadata": {
    "scrolled": false
   },
   "outputs": [
    {
     "data": {
      "text/plain": [
       "[<matplotlib.lines.Line2D at 0x7f99d91b6970>]"
      ]
     },
     "execution_count": 199,
     "metadata": {},
     "output_type": "execute_result"
    },
    {
     "data": {
      "image/png": "[encoded data removed]",
      "text/plain": [
       "<Figure size 640x480 with 1 Axes>"
      ]
     },
     "metadata": {},
     "output_type": "display_data"
    }
   ],
   "source": [
    "plt.title(f\" signal ({file})\")\n",
    "plt.xlabel(\"Time\")\n",
    "plt.ylabel(\"Amplitude\")\n",
    "plt.plot(data_list[n])"
   ]
  },
  {
   "cell_type": "code",
   "execution_count": 181,
   "id": "47364a28",
   "metadata": {},
   "outputs": [
    {
     "data": {
      "text/plain": [
       "(120912+0j)"
      ]
     },
     "execution_count": 181,
     "metadata": {},
     "output_type": "execute_result"
    }
   ],
   "source": [
    "fourier = fft(data_list[n])\n",
    "fourier[0]"
   ]
  },
  {
   "cell_type": "code",
   "execution_count": 182,
   "id": "7993f044",
   "metadata": {},
   "outputs": [],
   "source": [
    "# Take the real part of half of the fourier output, as the other half is\n",
    "# symmetric by definition.\n",
    "\n",
    "hfourier = np.abs(fourier[:len(fourier)//2])"
   ]
  },
  {
   "cell_type": "markdown",
   "id": "60034b65",
   "metadata": {},
   "source": [
    "According to Nyquist law, the highest physical frequency which can be represented by its samples without aliasing is simply (Sampling rate)/2"
   ]
  },
  {
   "cell_type": "code",
   "execution_count": 183,
   "id": "b1fb256d",
   "metadata": {
    "scrolled": true
   },
   "outputs": [
    {
     "data": {
      "text/plain": [
       "22050.0"
      ]
     },
     "execution_count": 183,
     "metadata": {},
     "output_type": "execute_result"
    }
   ],
   "source": [
    "NyquistMaxFreq= sample_rates[n]/2\n",
    "NyquistMaxFreq"
   ]
  },
  {
   "cell_type": "markdown",
   "id": "998df42b",
   "metadata": {},
   "source": [
    "Therefore the frequency bins for our fft of lenght N must be : \n",
    "\n",
    "Nyquist/(N)\n",
    "\n"
   ]
  },
  {
   "cell_type": "code",
   "execution_count": 209,
   "id": "c719bfc5",
   "metadata": {},
   "outputs": [
    {
     "data": {
      "text/plain": [
       "0.18563106142241378"
      ]
     },
     "execution_count": 209,
     "metadata": {},
     "output_type": "execute_result"
    }
   ],
   "source": [
    "N= len(hfourier)\n",
    "freq_bins=NyquistMaxFreq/N\n",
    "freq_bins"
   ]
  },
  {
   "cell_type": "code",
   "execution_count": 210,
   "id": "3d8004c3",
   "metadata": {},
   "outputs": [],
   "source": [
    "frequencies= np.arange(0, NyquistMax, freq_bins)"
   ]
  },
  {
   "cell_type": "code",
   "execution_count": 232,
   "id": "eee2baaf",
   "metadata": {},
   "outputs": [],
   "source": [
    "# N is the lenght of the output of the FFT\n",
    "# Sample_rate from the original signal\n",
    "\n",
    "def get_freq_bins(N,sample_rate):\n",
    "    NyquistMaxFreq= sample_rate/2\n",
    "    freq_bins=NyquistMaxFreq/N\n",
    "    frequencies= np.arange(0, NyquistMaxFreq, freq_bins)\n",
    "    return frequencies"
   ]
  },
  {
   "cell_type": "code",
   "execution_count": 217,
   "id": "16458aed",
   "metadata": {},
   "outputs": [
    {
     "name": "stdout",
     "output_type": "stream",
     "text": [
      "44100\n",
      "0.18563106142241378\n"
     ]
    }
   ],
   "source": [
    "frequencies= get_freq_bins(N, sample_rates[n])"
   ]
  },
  {
   "cell_type": "markdown",
   "id": "25856909",
   "metadata": {},
   "source": [
    "Normalize the spectrum with signal length. "
   ]
  },
  {
   "cell_type": "code",
   "execution_count": 218,
   "id": "ef04feb3",
   "metadata": {},
   "outputs": [
    {
     "data": {
      "text/plain": [
       "[<matplotlib.lines.Line2D at 0x7f99df9edee0>]"
      ]
     },
     "execution_count": 218,
     "metadata": {},
     "output_type": "execute_result"
    },
    {
     "data": {
      "image/png": "[encoded data removed]",
      "text/plain": [
       "<Figure size 640x480 with 1 Axes>"
      ]
     },
     "metadata": {},
     "output_type": "display_data"
    }
   ],
   "source": [
    "plt.title(f\"Frequency spectrum of the signal {file}\")\n",
    "plt.xlabel(\"Frequency (Hz)\")\n",
    "plt.ylabel(\"Power\")\n",
    "plt.plot(frequencies,  hfourier)"
   ]
  },
  {
   "cell_type": "code",
   "execution_count": 219,
   "id": "346e29cb",
   "metadata": {},
   "outputs": [
    {
     "name": "stdout",
     "output_type": "stream",
     "text": [
      "329.68076508620686\n"
     ]
    }
   ],
   "source": [
    "peak_freq = frequencies[np.argmax(hfourier)]\n",
    "print(peak_freq)"
   ]
  },
  {
   "cell_type": "code",
   "execution_count": 220,
   "id": "a501cd5c",
   "metadata": {},
   "outputs": [
    {
     "name": "stdout",
     "output_type": "stream",
     "text": [
      "330.2376582704741\n",
      "659.1758991109914\n",
      "330.0520272090517\n",
      "329.4951340247845\n",
      "329.68076508620686\n"
     ]
    }
   ],
   "source": [
    "ind = np.argpartition(hfourier, -5)[-5:]\n",
    "for i in ind:\n",
    "    print(frequencies[i])"
   ]
  },
  {
   "cell_type": "markdown",
   "id": "e8371c6c",
   "metadata": {},
   "source": [
    "# Algorithm with accuracy on Cents"
   ]
  },
  {
   "cell_type": "markdown",
   "id": "44e30a37",
   "metadata": {},
   "source": [
    "Note on the coomplexity: the optimal algorithm for doing this would be by using binary search but as the size of our ranges is small, the computation time remains relativeley the same even for the worst case.  \n",
    "\n",
    "Hence we do a brute force search for a frequency range:"
   ]
  },
  {
   "cell_type": "code",
   "execution_count": 105,
   "id": "110ad211",
   "metadata": {},
   "outputs": [],
   "source": [
    "def note_for_frequency(x):\n",
    "    for note, (lower, _, upper) in ranges.items():\n",
    "        if lower <= x <= upper:\n",
    "            return note\n",
    "    return None   "
   ]
  },
  {
   "cell_type": "code",
   "execution_count": 116,
   "id": "e074a7cf",
   "metadata": {},
   "outputs": [],
   "source": [
    "note_for_frequency(392.1471097089355)"
   ]
  },
  {
   "cell_type": "code",
   "execution_count": 157,
   "id": "84dec844",
   "metadata": {},
   "outputs": [],
   "source": [
    "def cents(note, frequency):\n",
    "    cent= notes[note][1]\n",
    "    f=frequency-notes[note][0]\n",
    "    res = (round(f/cent,2))\n",
    "    return f\"{res:+}\"\n",
    "    "
   ]
  },
  {
   "cell_type": "code",
   "execution_count": 158,
   "id": "c46ab9dc",
   "metadata": {},
   "outputs": [
    {
     "data": {
      "text/plain": [
       "'+0.49'"
      ]
     },
     "execution_count": 158,
     "metadata": {},
     "output_type": "execute_result"
    }
   ],
   "source": [
    "cents(\"G3\",196.07355485446774)"
   ]
  },
  {
   "cell_type": "code",
   "execution_count": 231,
   "id": "b5bad41f",
   "metadata": {},
   "outputs": [],
   "source": [
    "    \n",
    "def find_note(peak_freq):\n",
    "    note = note_for_frequency(peak_freq)\n",
    "    \n",
    "    if(note):\n",
    "        print(f\"peak freq return: {peak_freq}\")\n",
    "        return note + \" \"+ cents(note,peak_freq)\n",
    "    else:\n",
    "        if(peak_freq<146):\n",
    "            return find_note(peak_freq*2)\n",
    "        else:\n",
    "            return find_note(peak_freq/2)"
   ]
  },
  {
   "cell_type": "code",
   "execution_count": 224,
   "id": "e7a46013",
   "metadata": {},
   "outputs": [
    {
     "name": "stdout",
     "output_type": "stream",
     "text": [
      "peak freq: 196.07355485446774\n",
      "G3 +0.49\n"
     ]
    }
   ],
   "source": [
    "print(find_note(392.1471097089355))"
   ]
  },
  {
   "cell_type": "code",
   "execution_count": 225,
   "id": "45b6f644",
   "metadata": {},
   "outputs": [
    {
     "data": {
      "text/plain": [
       "'G3'"
      ]
     },
     "execution_count": 225,
     "metadata": {},
     "output_type": "execute_result"
    }
   ],
   "source": [
    "note_for_frequency(392.1471097089355/2)"
   ]
  },
  {
   "cell_type": "code",
   "execution_count": 233,
   "id": "95da55a3",
   "metadata": {},
   "outputs": [],
   "source": [
    "def note_from_file(file):\n",
    "    \n",
    "    sample_rate, data= wav.read(file)\n",
    "    \n",
    "    fourier = fft(data)\n",
    "    \n",
    "    N= len(fourier)\n",
    "    \n",
    "    hfourier = np.abs(fourier[:N//2])\n",
    "    frequencies= get_freq_bins(N//2,sample_rate)\n",
    "    \n",
    "    peak_freq = frequencies[np.argmax(hfourier)]\n",
    "    print(f\"initial peak: {peak_freq}\")\n",
    "    note = find_note(peak_freq)\n",
    "    \n",
    "    return note"
   ]
  },
  {
   "cell_type": "code",
   "execution_count": 234,
   "id": "06fe5d95",
   "metadata": {},
   "outputs": [
    {
     "name": "stdout",
     "output_type": "stream",
     "text": [
      "initial peak: 329.68076508620686\n",
      "peak freq return: 329.68076508620686\n"
     ]
    },
    {
     "data": {
      "text/plain": [
       "'E1 +0.34'"
      ]
     },
     "execution_count": 234,
     "metadata": {},
     "output_type": "execute_result"
    }
   ],
   "source": [
    "note_from_file(\"string_1.wav\")"
   ]
  },
  {
   "cell_type": "code",
   "execution_count": 240,
   "id": "a76637fb",
   "metadata": {},
   "outputs": [
    {
     "name": "stdout",
     "output_type": "stream",
     "text": [
      "initial peak: 329.68076508620686\n",
      "peak freq return: 329.68076508620686\n",
      "E1 +0.34\n",
      "______________________________________\n",
      "initial peak: 392.1471097089355\n",
      "peak freq return: 196.07355485446774\n",
      "G3 +0.49\n",
      "______________________________________\n",
      "initial peak: 110.12232194557035\n",
      "peak freq return: 110.12232194557035\n",
      "A5 +1.53\n",
      "______________________________________\n"
     ]
    }
   ],
   "source": [
    "for i in range(1,4):\n",
    "    print(note_from_file(f\"string_{i}.wav\"))\n",
    "    print(\"______________________________________\")"
   ]
  }
 ],
 "metadata": {
  "kernelspec": {
   "display_name": "Python 3 (ipykernel)",
   "language": "python",
   "name": "python3"
  },
  "language_info": {
   "codemirror_mode": {
    "name": "ipython",
    "version": 3
   },
   "file_extension": ".py",
   "mimetype": "text/x-python",
   "name": "python",
   "nbconvert_exporter": "python",
   "pygments_lexer": "ipython3",
   "version": "3.8.15"
  }
 },
 "nbformat": 4,
 "nbformat_minor": 5
}
